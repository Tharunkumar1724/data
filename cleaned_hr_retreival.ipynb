{
 "cells": [
  {
   "cell_type": "code",
   "execution_count": null,
   "metadata": {
    "id": "Towkt6e9lv7L"
   },
   "outputs": [],
   "source": [
    "!pip install -q langchain faiss-cpu sentence-transformers transformers\n"
   ]
  },
  {
   "cell_type": "code",
   "execution_count": null,
   "metadata": {
    "id": "KeHl_vkWlyDC"
   },
   "outputs": [],
   "source": [
    "from google.colab import files\n"
   ]
  },
  {
   "cell_type": "code",
   "execution_count": null,
   "metadata": {
    "colab": {
     "base_uri": "https://localhost:8080/",
     "height": 228
    },
    "id": "GGMXnolFme64",
    "outputId": "e8be51de-bac9-4c2f-c8d9-faecbe500d15"
   },
   "outputs": [
    {
     "data": {
      "text/html": [
       "\n",
       "     <input type=\"file\" id=\"files-5e024985-aafe-4246-a915-a83aae6e269a\" name=\"files[]\" multiple disabled\n",
       "        style=\"border:none\" />\n",
       "     <output id=\"result-5e024985-aafe-4246-a915-a83aae6e269a\">\n",
       "      Upload widget is only available when the cell has been executed in the\n",
       "      current browser session. Please rerun this cell to enable.\n",
       "      </output>\n",
       "      <script>// Copyright 2017 Google LLC\n",
       "//\n",
       "// Licensed under the Apache License, Version 2.0 (the \"License\");\n",
       "// you may not use this file except in compliance with the License.\n",
       "// You may obtain a copy of the License at\n",
       "//\n",
       "//      http://www.apache.org/licenses/LICENSE-2.0\n",
       "//\n",
       "// Unless required by applicable law or agreed to in writing, software\n",
       "// distributed under the License is distributed on an \"AS IS\" BASIS,\n",
       "// WITHOUT WARRANTIES OR CONDITIONS OF ANY KIND, either express or implied.\n",
       "// See the License for the specific language governing permissions and\n",
       "// limitations under the License.\n",
       "\n",
       "/**\n",
       " * @fileoverview Helpers for google.colab Python module.\n",
       " */\n",
       "(function(scope) {\n",
       "function span(text, styleAttributes = {}) {\n",
       "  const element = document.createElement('span');\n",
       "  element.textContent = text;\n",
       "  for (const key of Object.keys(styleAttributes)) {\n",
       "    element.style[key] = styleAttributes[key];\n",
       "  }\n",
       "  return element;\n",
       "}\n",
       "\n",
       "// Max number of bytes which will be uploaded at a time.\n",
       "const MAX_PAYLOAD_SIZE = 100 * 1024;\n",
       "\n",
       "function _uploadFiles(inputId, outputId) {\n",
       "  const steps = uploadFilesStep(inputId, outputId);\n",
       "  const outputElement = document.getElementById(outputId);\n",
       "  // Cache steps on the outputElement to make it available for the next call\n",
       "  // to uploadFilesContinue from Python.\n",
       "  outputElement.steps = steps;\n",
       "\n",
       "  return _uploadFilesContinue(outputId);\n",
       "}\n",
       "\n",
       "// This is roughly an async generator (not supported in the browser yet),\n",
       "// where there are multiple asynchronous steps and the Python side is going\n",
       "// to poll for completion of each step.\n",
       "// This uses a Promise to block the python side on completion of each step,\n",
       "// then passes the result of the previous step as the input to the next step.\n",
       "function _uploadFilesContinue(outputId) {\n",
       "  const outputElement = document.getElementById(outputId);\n",
       "  const steps = outputElement.steps;\n",
       "\n",
       "  const next = steps.next(outputElement.lastPromiseValue);\n",
       "  return Promise.resolve(next.value.promise).then((value) => {\n",
       "    // Cache the last promise value to make it available to the next\n",
       "    // step of the generator.\n",
       "    outputElement.lastPromiseValue = value;\n",
       "    return next.value.response;\n",
       "  });\n",
       "}\n",
       "\n",
       "/**\n",
       " * Generator function which is called between each async step of the upload\n",
       " * process.\n",
       " * @param {string} inputId Element ID of the input file picker element.\n",
       " * @param {string} outputId Element ID of the output display.\n",
       " * @return {!Iterable<!Object>} Iterable of next steps.\n",
       " */\n",
       "function* uploadFilesStep(inputId, outputId) {\n",
       "  const inputElement = document.getElementById(inputId);\n",
       "  inputElement.disabled = false;\n",
       "\n",
       "  const outputElement = document.getElementById(outputId);\n",
       "  outputElement.innerHTML = '';\n",
       "\n",
       "  const pickedPromise = new Promise((resolve) => {\n",
       "    inputElement.addEventListener('change', (e) => {\n",
       "      resolve(e.target.files);\n",
       "    });\n",
       "  });\n",
       "\n",
       "  const cancel = document.createElement('button');\n",
       "  inputElement.parentElement.appendChild(cancel);\n",
       "  cancel.textContent = 'Cancel upload';\n",
       "  const cancelPromise = new Promise((resolve) => {\n",
       "    cancel.onclick = () => {\n",
       "      resolve(null);\n",
       "    };\n",
       "  });\n",
       "\n",
       "  // Wait for the user to pick the files.\n",
       "  const files = yield {\n",
       "    promise: Promise.race([pickedPromise, cancelPromise]),\n",
       "    response: {\n",
       "      action: 'starting',\n",
       "    }\n",
       "  };\n",
       "\n",
       "  cancel.remove();\n",
       "\n",
       "  // Disable the input element since further picks are not allowed.\n",
       "  inputElement.disabled = true;\n",
       "\n",
       "  if (!files) {\n",
       "    return {\n",
       "      response: {\n",
       "        action: 'complete',\n",
       "      }\n",
       "    };\n",
       "  }\n",
       "\n",
       "  for (const file of files) {\n",
       "    const li = document.createElement('li');\n",
       "    li.append(span(file.name, {fontWeight: 'bold'}));\n",
       "    li.append(span(\n",
       "        `(${file.type || 'n/a'}) - ${file.size} bytes, ` +\n",
       "        `last modified: ${\n",
       "            file.lastModifiedDate ? file.lastModifiedDate.toLocaleDateString() :\n",
       "                                    'n/a'} - `));\n",
       "    const percent = span('0% done');\n",
       "    li.appendChild(percent);\n",
       "\n",
       "    outputElement.appendChild(li);\n",
       "\n",
       "    const fileDataPromise = new Promise((resolve) => {\n",
       "      const reader = new FileReader();\n",
       "      reader.onload = (e) => {\n",
       "        resolve(e.target.result);\n",
       "      };\n",
       "      reader.readAsArrayBuffer(file);\n",
       "    });\n",
       "    // Wait for the data to be ready.\n",
       "    let fileData = yield {\n",
       "      promise: fileDataPromise,\n",
       "      response: {\n",
       "        action: 'continue',\n",
       "      }\n",
       "    };\n",
       "\n",
       "    // Use a chunked sending to avoid message size limits. See b/62115660.\n",
       "    let position = 0;\n",
       "    do {\n",
       "      const length = Math.min(fileData.byteLength - position, MAX_PAYLOAD_SIZE);\n",
       "      const chunk = new Uint8Array(fileData, position, length);\n",
       "      position += length;\n",
       "\n",
       "      const base64 = btoa(String.fromCharCode.apply(null, chunk));\n",
       "      yield {\n",
       "        response: {\n",
       "          action: 'append',\n",
       "          file: file.name,\n",
       "          data: base64,\n",
       "        },\n",
       "      };\n",
       "\n",
       "      let percentDone = fileData.byteLength === 0 ?\n",
       "          100 :\n",
       "          Math.round((position / fileData.byteLength) * 100);\n",
       "      percent.textContent = `${percentDone}% done`;\n",
       "\n",
       "    } while (position < fileData.byteLength);\n",
       "  }\n",
       "\n",
       "  // All done.\n",
       "  yield {\n",
       "    response: {\n",
       "      action: 'complete',\n",
       "    }\n",
       "  };\n",
       "}\n",
       "\n",
       "scope.google = scope.google || {};\n",
       "scope.google.colab = scope.google.colab || {};\n",
       "scope.google.colab._files = {\n",
       "  _uploadFiles,\n",
       "  _uploadFilesContinue,\n",
       "};\n",
       "})(self);\n",
       "</script> "
      ],
      "text/plain": [
       "<IPython.core.display.HTML object>"
      ]
     },
     "metadata": {},
     "output_type": "display_data"
    },
    {
     "name": "stdout",
     "output_type": "stream",
     "text": [
      "Saving performance_reviews.json to performance_reviews.json\n",
      "Saving project_assignments.csv to project_assignments.csv\n",
      "Saving skill_matrix.csv to skill_matrix.csv\n",
      "Saving sprint_logs.csv to sprint_logs.csv\n",
      "Saving standup_notes.json to standup_notes.json\n",
      "📂 Uploaded: performance_reviews.json\n"
     ]
    }
   ],
   "source": [
    "from google.colab import files\n",
    "uploaded = files.upload()\n",
    "\n",
    "file_name = next(iter(uploaded))\n",
    "print(\"📂 Uploaded:\", file_name)\n"
   ]
  },
  {
   "cell_type": "code",
   "execution_count": null,
   "metadata": {
    "colab": {
     "base_uri": "https://localhost:8080/"
    },
    "id": "5DjrQQcfmunG",
    "outputId": "20a7a48f-e9a8-4345-95dc-dd2d52fc33d5"
   },
   "outputs": [
    {
     "name": "stdout",
     "output_type": "stream",
     "text": [
      "✅ Loaded total 800 documents\n"
     ]
    }
   ],
   "source": [
    "import json\n",
    "from langchain.schema import Document\n",
    "\n",
    "documents = []\n",
    "\n",
    "# Load standup notes\n",
    "with open(\"standup_notes.json\", \"r\") as f:\n",
    "    standup_data = json.load(f)\n",
    "\n",
    "for entry in standup_data:\n",
    "    text = f\"\"\"\n",
    "    Name: {entry.get(\"name\")}\n",
    "    Date: {entry.get(\"date\")}\n",
    "    Yesterday: {entry.get(\"yesterday\")}\n",
    "    Today: {entry.get(\"today\")}\n",
    "    Blockers: {entry.get(\"blockers\")}\n",
    "    \"\"\"\n",
    "    documents.append(Document(page_content=text.strip()))\n",
    "\n",
    "# Load performance reviews\n",
    "with open(\"performance_reviews.json\", \"r\") as f:\n",
    "    review_data = json.load(f)\n",
    "\n",
    "for entry in review_data:\n",
    "    text = f\"\"\"\n",
    "    Name: {entry.get(\"name\")}\n",
    "    Review Date: {entry.get(\"review_date\")}\n",
    "    Reviewer: {entry.get(\"reviewer\")}\n",
    "    Comments: {entry.get(\"comments\")}\n",
    "    Rating: {entry.get(\"rating\")}\n",
    "    \"\"\"\n",
    "    documents.append(Document(page_content=text.strip()))\n",
    "\n",
    "print(f\"✅ Loaded total {len(documents)} documents\")\n"
   ]
  },
  {
   "cell_type": "code",
   "execution_count": null,
   "metadata": {
    "id": "x1R06MZZqI6W"
   },
   "outputs": [],
   "source": []
  },
  {
   "cell_type": "code",
   "execution_count": null,
   "metadata": {
    "colab": {
     "base_uri": "https://localhost:8080/"
    },
    "id": "pC88O0xPn0Vx",
    "outputId": "49f8df79-39e3-410e-bc91-cc15ae7a53fd"
   },
   "outputs": [
    {
     "name": "stdout",
     "output_type": "stream",
     "text": [
      "✅ Split into 800 chunks\n"
     ]
    }
   ],
   "source": [
    "from langchain.text_splitter import RecursiveCharacterTextSplitter\n",
    "\n",
    "# Set up the chunker\n",
    "splitter = RecursiveCharacterTextSplitter(\n",
    "    chunk_size=500,     # Each chunk max ~500 characters\n",
    "    chunk_overlap=50     # Overlap between chunks to preserve context\n",
    ")\n",
    "\n",
    "# Apply to all documents\n",
    "chunked_docs = splitter.split_documents(documents)\n",
    "\n",
    "print(f\"✅ Split into {len(chunked_docs)} chunks\")\n"
   ]
  },
  {
   "cell_type": "code",
   "execution_count": null,
   "metadata": {
    "colab": {
     "base_uri": "https://localhost:8080/"
    },
    "id": "UWiIQaI1n2zt",
    "outputId": "ad0beafd-2041-4999-bbba-146ace695c81"
   },
   "outputs": [
    {
     "name": "stdout",
     "output_type": "stream",
     "text": [
      "\n",
      "--- Chunk #1 ---\n",
      "Name: Richard Green\n",
      "    Date: 2025-07-04\n",
      "    Yesterday: Because important trial increase new report.\n",
      "    Today: Current strategy face make.\n",
      "    Blockers:\n",
      "\n",
      "--- Chunk #2 ---\n",
      "Name: Susan Marks\n",
      "    Date: 2025-07-04\n",
      "    Yesterday: Strong fight nice less agree.\n",
      "    Today: Child feel policy.\n",
      "    Blockers:\n",
      "\n",
      "--- Chunk #3 ---\n",
      "Name: Kimberly Flynn\n",
      "    Date: 2025-07-04\n",
      "    Yesterday: Buy program explain conference trade population agreement.\n",
      "    Today: Manage wife out gun lose.\n",
      "    Blockers:\n"
     ]
    }
   ],
   "source": [
    "for i, doc in enumerate(chunked_docs[:3]):\n",
    "    print(f\"\\n--- Chunk #{i+1} ---\\n{doc.page_content}\")\n"
   ]
  },
  {
   "cell_type": "code",
   "execution_count": null,
   "metadata": {
    "colab": {
     "base_uri": "https://localhost:8080/"
    },
    "id": "c111ed3b",
    "outputId": "7935c566-41a1-4573-d78c-80519295582a"
   },
   "outputs": [
    {
     "name": "stdout",
     "output_type": "stream",
     "text": [
      "Collecting langchain-community\n",
      "  Downloading langchain_community-0.3.27-py3-none-any.whl.metadata (2.9 kB)\n",
      "Requirement already satisfied: langchain-core<1.0.0,>=0.3.66 in /usr/local/lib/python3.11/dist-packages (from langchain-community) (0.3.72)\n",
      "Requirement already satisfied: langchain<1.0.0,>=0.3.26 in /usr/local/lib/python3.11/dist-packages (from langchain-community) (0.3.27)\n",
      "Requirement already satisfied: SQLAlchemy<3,>=1.4 in /usr/local/lib/python3.11/dist-packages (from langchain-community) (2.0.41)\n",
      "Requirement already satisfied: requests<3,>=2 in /usr/local/lib/python3.11/dist-packages (from langchain-community) (2.32.3)\n",
      "Requirement already satisfied: PyYAML>=5.3 in /usr/local/lib/python3.11/dist-packages (from langchain-community) (6.0.2)\n",
      "Requirement already satisfied: aiohttp<4.0.0,>=3.8.3 in /usr/local/lib/python3.11/dist-packages (from langchain-community) (3.12.14)\n",
      "Requirement already satisfied: tenacity!=8.4.0,<10,>=8.1.0 in /usr/local/lib/python3.11/dist-packages (from langchain-community) (8.5.0)\n",
      "Collecting dataclasses-json<0.7,>=0.5.7 (from langchain-community)\n",
      "  Downloading dataclasses_json-0.6.7-py3-none-any.whl.metadata (25 kB)\n",
      "Collecting pydantic-settings<3.0.0,>=2.4.0 (from langchain-community)\n",
      "  Downloading pydantic_settings-2.10.1-py3-none-any.whl.metadata (3.4 kB)\n",
      "Requirement already satisfied: langsmith>=0.1.125 in /usr/local/lib/python3.11/dist-packages (from langchain-community) (0.4.8)\n",
      "Collecting httpx-sse<1.0.0,>=0.4.0 (from langchain-community)\n",
      "  Downloading httpx_sse-0.4.1-py3-none-any.whl.metadata (9.4 kB)\n",
      "Requirement already satisfied: numpy>=1.26.2 in /usr/local/lib/python3.11/dist-packages (from langchain-community) (2.0.2)\n",
      "Requirement already satisfied: aiohappyeyeballs>=2.5.0 in /usr/local/lib/python3.11/dist-packages (from aiohttp<4.0.0,>=3.8.3->langchain-community) (2.6.1)\n",
      "Requirement already satisfied: aiosignal>=1.4.0 in /usr/local/lib/python3.11/dist-packages (from aiohttp<4.0.0,>=3.8.3->langchain-community) (1.4.0)\n",
      "Requirement already satisfied: attrs>=17.3.0 in /usr/local/lib/python3.11/dist-packages (from aiohttp<4.0.0,>=3.8.3->langchain-community) (25.3.0)\n",
      "Requirement already satisfied: frozenlist>=1.1.1 in /usr/local/lib/python3.11/dist-packages (from aiohttp<4.0.0,>=3.8.3->langchain-community) (1.7.0)\n",
      "Requirement already satisfied: multidict<7.0,>=4.5 in /usr/local/lib/python3.11/dist-packages (from aiohttp<4.0.0,>=3.8.3->langchain-community) (6.6.3)\n",
      "Requirement already satisfied: propcache>=0.2.0 in /usr/local/lib/python3.11/dist-packages (from aiohttp<4.0.0,>=3.8.3->langchain-community) (0.3.2)\n",
      "Requirement already satisfied: yarl<2.0,>=1.17.0 in /usr/local/lib/python3.11/dist-packages (from aiohttp<4.0.0,>=3.8.3->langchain-community) (1.20.1)\n",
      "Collecting marshmallow<4.0.0,>=3.18.0 (from dataclasses-json<0.7,>=0.5.7->langchain-community)\n",
      "  Downloading marshmallow-3.26.1-py3-none-any.whl.metadata (7.3 kB)\n",
      "Collecting typing-inspect<1,>=0.4.0 (from dataclasses-json<0.7,>=0.5.7->langchain-community)\n",
      "  Downloading typing_inspect-0.9.0-py3-none-any.whl.metadata (1.5 kB)\n",
      "Requirement already satisfied: langchain-text-splitters<1.0.0,>=0.3.9 in /usr/local/lib/python3.11/dist-packages (from langchain<1.0.0,>=0.3.26->langchain-community) (0.3.9)\n",
      "Requirement already satisfied: pydantic<3.0.0,>=2.7.4 in /usr/local/lib/python3.11/dist-packages (from langchain<1.0.0,>=0.3.26->langchain-community) (2.11.7)\n",
      "Requirement already satisfied: jsonpatch<2.0,>=1.33 in /usr/local/lib/python3.11/dist-packages (from langchain-core<1.0.0,>=0.3.66->langchain-community) (1.33)\n",
      "Requirement already satisfied: typing-extensions>=4.7 in /usr/local/lib/python3.11/dist-packages (from langchain-core<1.0.0,>=0.3.66->langchain-community) (4.14.1)\n",
      "Requirement already satisfied: packaging>=23.2 in /usr/local/lib/python3.11/dist-packages (from langchain-core<1.0.0,>=0.3.66->langchain-community) (25.0)\n",
      "Requirement already satisfied: httpx<1,>=0.23.0 in /usr/local/lib/python3.11/dist-packages (from langsmith>=0.1.125->langchain-community) (0.28.1)\n",
      "Requirement already satisfied: orjson<4.0.0,>=3.9.14 in /usr/local/lib/python3.11/dist-packages (from langsmith>=0.1.125->langchain-community) (3.11.1)\n",
      "Requirement already satisfied: requests-toolbelt<2.0.0,>=1.0.0 in /usr/local/lib/python3.11/dist-packages (from langsmith>=0.1.125->langchain-community) (1.0.0)\n",
      "Requirement already satisfied: zstandard<0.24.0,>=0.23.0 in /usr/local/lib/python3.11/dist-packages (from langsmith>=0.1.125->langchain-community) (0.23.0)\n",
      "Collecting python-dotenv>=0.21.0 (from pydantic-settings<3.0.0,>=2.4.0->langchain-community)\n",
      "  Downloading python_dotenv-1.1.1-py3-none-any.whl.metadata (24 kB)\n",
      "Requirement already satisfied: typing-inspection>=0.4.0 in /usr/local/lib/python3.11/dist-packages (from pydantic-settings<3.0.0,>=2.4.0->langchain-community) (0.4.1)\n",
      "Requirement already satisfied: charset-normalizer<4,>=2 in /usr/local/lib/python3.11/dist-packages (from requests<3,>=2->langchain-community) (3.4.2)\n",
      "Requirement already satisfied: idna<4,>=2.5 in /usr/local/lib/python3.11/dist-packages (from requests<3,>=2->langchain-community) (3.10)\n",
      "Requirement already satisfied: urllib3<3,>=1.21.1 in /usr/local/lib/python3.11/dist-packages (from requests<3,>=2->langchain-community) (2.5.0)\n",
      "Requirement already satisfied: certifi>=2017.4.17 in /usr/local/lib/python3.11/dist-packages (from requests<3,>=2->langchain-community) (2025.7.14)\n",
      "Requirement already satisfied: greenlet>=1 in /usr/local/lib/python3.11/dist-packages (from SQLAlchemy<3,>=1.4->langchain-community) (3.2.3)\n",
      "Requirement already satisfied: anyio in /usr/local/lib/python3.11/dist-packages (from httpx<1,>=0.23.0->langsmith>=0.1.125->langchain-community) (4.9.0)\n",
      "Requirement already satisfied: httpcore==1.* in /usr/local/lib/python3.11/dist-packages (from httpx<1,>=0.23.0->langsmith>=0.1.125->langchain-community) (1.0.9)\n",
      "Requirement already satisfied: h11>=0.16 in /usr/local/lib/python3.11/dist-packages (from httpcore==1.*->httpx<1,>=0.23.0->langsmith>=0.1.125->langchain-community) (0.16.0)\n",
      "Requirement already satisfied: jsonpointer>=1.9 in /usr/local/lib/python3.11/dist-packages (from jsonpatch<2.0,>=1.33->langchain-core<1.0.0,>=0.3.66->langchain-community) (3.0.0)\n",
      "Requirement already satisfied: annotated-types>=0.6.0 in /usr/local/lib/python3.11/dist-packages (from pydantic<3.0.0,>=2.7.4->langchain<1.0.0,>=0.3.26->langchain-community) (0.7.0)\n",
      "Requirement already satisfied: pydantic-core==2.33.2 in /usr/local/lib/python3.11/dist-packages (from pydantic<3.0.0,>=2.7.4->langchain<1.0.0,>=0.3.26->langchain-community) (2.33.2)\n",
      "Collecting mypy-extensions>=0.3.0 (from typing-inspect<1,>=0.4.0->dataclasses-json<0.7,>=0.5.7->langchain-community)\n",
      "  Downloading mypy_extensions-1.1.0-py3-none-any.whl.metadata (1.1 kB)\n",
      "Requirement already satisfied: sniffio>=1.1 in /usr/local/lib/python3.11/dist-packages (from anyio->httpx<1,>=0.23.0->langsmith>=0.1.125->langchain-community) (1.3.1)\n",
      "Downloading langchain_community-0.3.27-py3-none-any.whl (2.5 MB)\n",
      "\u001b[2K   \u001b[90m━━━━━━━━━━━━━━━━━━━━━━━━━━━━━━━━━━━━━━━━\u001b[0m \u001b[32m2.5/2.5 MB\u001b[0m \u001b[31m38.1 MB/s\u001b[0m eta \u001b[36m0:00:00\u001b[0m\n",
      "\u001b[?25hDownloading dataclasses_json-0.6.7-py3-none-any.whl (28 kB)\n",
      "Downloading httpx_sse-0.4.1-py3-none-any.whl (8.1 kB)\n",
      "Downloading pydantic_settings-2.10.1-py3-none-any.whl (45 kB)\n",
      "\u001b[2K   \u001b[90m━━━━━━━━━━━━━━━━━━━━━━━━━━━━━━━━━━━━━━━━\u001b[0m \u001b[32m45.2/45.2 kB\u001b[0m \u001b[31m4.4 MB/s\u001b[0m eta \u001b[36m0:00:00\u001b[0m\n",
      "\u001b[?25hDownloading marshmallow-3.26.1-py3-none-any.whl (50 kB)\n",
      "\u001b[2K   \u001b[90m━━━━━━━━━━━━━━━━━━━━━━━━━━━━━━━━━━━━━━━━\u001b[0m \u001b[32m50.9/50.9 kB\u001b[0m \u001b[31m5.1 MB/s\u001b[0m eta \u001b[36m0:00:00\u001b[0m\n",
      "\u001b[?25hDownloading python_dotenv-1.1.1-py3-none-any.whl (20 kB)\n",
      "Downloading typing_inspect-0.9.0-py3-none-any.whl (8.8 kB)\n",
      "Downloading mypy_extensions-1.1.0-py3-none-any.whl (5.0 kB)\n",
      "Installing collected packages: python-dotenv, mypy-extensions, marshmallow, httpx-sse, typing-inspect, pydantic-settings, dataclasses-json, langchain-community\n",
      "Successfully installed dataclasses-json-0.6.7 httpx-sse-0.4.1 langchain-community-0.3.27 marshmallow-3.26.1 mypy-extensions-1.1.0 pydantic-settings-2.10.1 python-dotenv-1.1.1 typing-inspect-0.9.0\n"
     ]
    }
   ],
   "source": [
    "!pip install -U langchain-community"
   ]
  },
  {
   "cell_type": "code",
   "execution_count": null,
   "metadata": {
    "colab": {
     "base_uri": "https://localhost:8080/",
     "height": 528,
     "referenced_widgets": [
      "23fe272577674a3eaffe3f50349c27f7",
      "b26ccc02720a4ce08f0a952c5fa018dc",
      "43942f8c7517452f838fe6adff0b7df8",
      "8dbea797c6f84896a4487fb739f73095",
      "1531510d181c4d7d8bdbe848c089d357",
      "bea9d21e40fa408480e66edff45bf4d8",
      "2ddff462389c432797d767ee2c7195ab",
      "65c22ba210c545b1bd6050947c5bd71c",
      "1909cf4f2821437abffbf4de7dfaab0d",
      "b89c35ac87854d4ba3a39516d2de1ef6",
      "09625134a7f340a898a7f4661b1482e2",
      "00bc839d83db46dcb6b32f45a970aaf6",
      "90e45dac11044cb2b4051fecb53f9dab",
      "3779183e539843ada92bc40a03b6345a",
      "270206ac210548b3999f50b82a10c227",
      "cda7578924d144edaee498134d334279",
      "992b457804c3464e9057c0941abff62b",
      "76bf039dd982495e92f01089fab648e5",
      "9ebee8c0003f47a791246624fa6c89cf",
      "f94af5d3d7004bdcb08de2c83330fb27",
      "a67ef9deb9ff461f955b9bd41ae3fdf3",
      "a690653e8e414dfbb771c5cb99feabb5",
      "4a06d468b52f4f5f810e817df969bc15",
      "f741490ddc374e689b05347584497db3",
      "3e2926007bfe46b1904ada4a83a14fba",
      "140640451f14492b9f99e3cfc81c3d84",
      "0f65b92feae54f49ab58340869e25fe4",
      "375d59241ea443aaa449fc3ed07b16da",
      "da47bb4b3e6a4e1ebd1a21c202783ab8",
      "8b725a0c0cb74029bc580c31e2fd401c",
      "d134b26d303e43a7a58547119018e5f4",
      "a7283895ef83469c83f68d7837e1adaa",
      "4459abd00d7e4ba5b7ae7e22b102361e",
      "1d972ca060a541f4bd316918ed66c902",
      "daf99086e2754652a6de538c01fb399a",
      "fbe9c9931f354d1a874e87828ac2c1f8",
      "a20006ff744741f198c1d0ff7b1d664e",
      "8e7788af496f469a9e987885e2a73cb8",
      "e5dd411439f841d6b0351d1a932ffa8b",
      "cadb5e7e6bf14b3783bd5d8c34b3be7c",
      "ce0fa8f5533e4c968188886ed7d8ee80",
      "1a91156263384496b349bf31b86eb296",
      "d980b1585283491eb8bc8edff95af6b8",
      "8ebb16b6f8314c2984b678969a75f08c",
      "7b6b2f6b7c924800878acfe60a00a60e",
      "fc85a2a0aa01451faeb406e44a3615d6",
      "cdc255041a4b497f91d763560382bcce",
      "1c30cbd32da948f29cea2fd4a662446e",
      "7a7ee0f9030b433aafe9c5c853848771",
      "100601e74d1d40f794bb26ae70c6a6fd",
      "c351cf9975ea4b3e9043b7084cff1789",
      "03967845c6fa4f91be4fa7c71714de6c",
      "939158c6c6844c66997a20f1aa161cc2",
      "3ab048a228f74d79953e418544908e18",
      "cbe6f8a6cbc046c59399b755cd60fada",
      "1d09ee6c1ec24a8b803d2af29f606fb1",
      "57e11c1d32d94803b41989b1ef1b3569",
      "ac1618bd90d648a0be80703bdad5676f",
      "7c738e301ad54825a359b109d1f7c006",
      "76be3e1ed26e4e1890e339c56138a1f4",
      "a39ccaf6be834795b4178a51001fe337",
      "df2eedd6254e429eba2cc097faaa275d",
      "e381b49790ac46a8945d4b08cc58f545",
      "afaf76074e334d28bbbc857dae51cd5c",
      "1a1adc7d02784364bb29d590518a9bd4",
      "d8c5ba96d0ac430ebd75426a1b8741b9",
      "890c8d84e0434861b401428754c49950",
      "ad29396c242d430abd39e3ffe33b5ff1",
      "04ca9e1cc8c144869042cd9209b3c6f3",
      "fc9351f7227c4c488ec07aff12a1540f",
      "6402dfe3881346ae89034d2d3beffe08",
      "43a2cf2dae46456daa31f2fee0c03140",
      "0f1ee1cef3984ed58b21c552abbbe7c6",
      "cda4a2a7582146bb9674fc286270ff0c",
      "d2e5c26d8e1c42bb98385b3c4f6443c5",
      "1d6b425198f444c1b346eef116d80f2d",
      "236aa06dcdba45f18fa142e836f8707b",
      "1d20a5d343fd4ceca39750fb9865adf8",
      "fa794f87cdfe4ed19f689342c4eb5ef4",
      "df0627216fbf49c38eb082dbf863185d",
      "a046f5c7a98b4e79a96bef6f9c6f54d8",
      "f05a9ad506214da68631eeacd7f079d7",
      "87cf4b7c6c6443529e2422d7cf3f4877",
      "9986cb10ba6e4354aef1da570cc94a0e",
      "90ca3fdf16d34270add8f43613faa51d",
      "e38ef220fc1d46349c055e4925342f97",
      "03a6d4eb587c4725b38bb572905b13bb",
      "1495188ae4574ce984ac21cdd21354cc",
      "7048c02d6cab4e5faaa6dca4d9a2a4db",
      "183e48e78cb14616b523f17115d4a674",
      "8178bbcd77874c269415672b9b0e745d",
      "99c45244177e45d48b3e250228b5bbf1",
      "cf6fc850775540a3ba61a7e59e6c2ae9",
      "48c278a5cfbb476a858c1474c747ae0e",
      "b11abf01469041869845e3afd965a51d",
      "bad6be2c78364a2088b6ef04a4504b47",
      "d9340c46275747d381cd7ada64c595e3",
      "8911cb53069c40f4ae19125d9ba0ac68",
      "4d6d833748e34e05b62b285ced3b92e1",
      "535798dd6e014f82bc17b8d961ba389a",
      "002f7f1ccc19449f9fdb121c6c86dbd6",
      "5c6828120e5045738383c847e1439164",
      "e22130017a264937b9da6b286b9189d2",
      "38f4e26b9f2e44d88f295f237eb3d4be",
      "fdf61dab35fb4cc6ba16176b72de497d",
      "eab167e8b78f45c5b6ad2f7985bff16d",
      "cfa2cdf138c1400e9676bcff23c7aa7e",
      "b5b6420b486044c3bfdc92130c8f0d56",
      "f9a153a6d32d415ea2ae3e0ca8a26ea2",
      "acee592ca1ac4eef8a2be2b465f4abe9",
      "161d5ed88b974ffcab56e1379df40df6",
      "a8e8fd2f62dc48e3b2dbd93a57a6db89",
      "ddffccaf64364cc5a331ddee31129619",
      "aa9026b7c2d04350b406b2218d6a66d5",
      "bf220735acce475d87935f265b37218a",
      "65a6c2bb976a4a09b64da737d67b7572",
      "6f7cf68f26674da38ac3db926139a1a0",
      "2793df1362c24880ba65c788334499bb",
      "c2b3b0a128014c74a081c1f5a5be949e",
      "ebeb80695e9f4848be229ed11169a95a",
      "d5b8ec87e3b74df68e6c3c1a83653c5c"
     ]
    },
    "id": "55b95da5",
    "outputId": "a78c8ee4-f39c-426f-c917-bf9ed785922e"
   },
   "outputs": [
    {
     "name": "stderr",
     "output_type": "stream",
     "text": [
      "/tmp/ipython-input-4292522006.py:3: LangChainDeprecationWarning: The class `HuggingFaceEmbeddings` was deprecated in LangChain 0.2.2 and will be removed in 1.0. An updated version of the class exists in the :class:`~langchain-huggingface package and should be used instead. To use it run `pip install -U :class:`~langchain-huggingface` and import as `from :class:`~langchain_huggingface import HuggingFaceEmbeddings``.\n",
      "  embedding_model = HuggingFaceEmbeddings(model_name=\"sentence-transformers/all-MiniLM-L6-v2\")\n",
      "/usr/local/lib/python3.11/dist-packages/huggingface_hub/utils/_auth.py:94: UserWarning: \n",
      "The secret `HF_TOKEN` does not exist in your Colab secrets.\n",
      "To authenticate with the Hugging Face Hub, create a token in your settings tab (https://huggingface.co/settings/tokens), set it as secret in your Google Colab and restart your session.\n",
      "You will be able to reuse this secret in all of your notebooks.\n",
      "Please note that authentication is recommended but still optional to access public models or datasets.\n",
      "  warnings.warn(\n"
     ]
    },
    {
     "data": {
      "application/vnd.jupyter.widget-view+json": {
       "model_id": "23fe272577674a3eaffe3f50349c27f7",
       "version_major": 2,
       "version_minor": 0
      },
      "text/plain": [
       "modules.json:   0%|          | 0.00/349 [00:00<?, ?B/s]"
      ]
     },
     "metadata": {},
     "output_type": "display_data"
    },
    {
     "data": {
      "application/vnd.jupyter.widget-view+json": {
       "model_id": "00bc839d83db46dcb6b32f45a970aaf6",
       "version_major": 2,
       "version_minor": 0
      },
      "text/plain": [
       "config_sentence_transformers.json:   0%|          | 0.00/116 [00:00<?, ?B/s]"
      ]
     },
     "metadata": {},
     "output_type": "display_data"
    },
    {
     "data": {
      "application/vnd.jupyter.widget-view+json": {
       "model_id": "4a06d468b52f4f5f810e817df969bc15",
       "version_major": 2,
       "version_minor": 0
      },
      "text/plain": [
       "README.md: 0.00B [00:00, ?B/s]"
      ]
     },
     "metadata": {},
     "output_type": "display_data"
    },
    {
     "data": {
      "application/vnd.jupyter.widget-view+json": {
       "model_id": "1d972ca060a541f4bd316918ed66c902",
       "version_major": 2,
       "version_minor": 0
      },
      "text/plain": [
       "sentence_bert_config.json:   0%|          | 0.00/53.0 [00:00<?, ?B/s]"
      ]
     },
     "metadata": {},
     "output_type": "display_data"
    },
    {
     "data": {
      "application/vnd.jupyter.widget-view+json": {
       "model_id": "7b6b2f6b7c924800878acfe60a00a60e",
       "version_major": 2,
       "version_minor": 0
      },
      "text/plain": [
       "config.json:   0%|          | 0.00/612 [00:00<?, ?B/s]"
      ]
     },
     "metadata": {},
     "output_type": "display_data"
    },
    {
     "data": {
      "application/vnd.jupyter.widget-view+json": {
       "model_id": "1d09ee6c1ec24a8b803d2af29f606fb1",
       "version_major": 2,
       "version_minor": 0
      },
      "text/plain": [
       "model.safetensors:   0%|          | 0.00/90.9M [00:00<?, ?B/s]"
      ]
     },
     "metadata": {},
     "output_type": "display_data"
    },
    {
     "data": {
      "application/vnd.jupyter.widget-view+json": {
       "model_id": "890c8d84e0434861b401428754c49950",
       "version_major": 2,
       "version_minor": 0
      },
      "text/plain": [
       "tokenizer_config.json:   0%|          | 0.00/350 [00:00<?, ?B/s]"
      ]
     },
     "metadata": {},
     "output_type": "display_data"
    },
    {
     "data": {
      "application/vnd.jupyter.widget-view+json": {
       "model_id": "1d20a5d343fd4ceca39750fb9865adf8",
       "version_major": 2,
       "version_minor": 0
      },
      "text/plain": [
       "vocab.txt: 0.00B [00:00, ?B/s]"
      ]
     },
     "metadata": {},
     "output_type": "display_data"
    },
    {
     "data": {
      "application/vnd.jupyter.widget-view+json": {
       "model_id": "7048c02d6cab4e5faaa6dca4d9a2a4db",
       "version_major": 2,
       "version_minor": 0
      },
      "text/plain": [
       "tokenizer.json: 0.00B [00:00, ?B/s]"
      ]
     },
     "metadata": {},
     "output_type": "display_data"
    },
    {
     "data": {
      "application/vnd.jupyter.widget-view+json": {
       "model_id": "535798dd6e014f82bc17b8d961ba389a",
       "version_major": 2,
       "version_minor": 0
      },
      "text/plain": [
       "special_tokens_map.json:   0%|          | 0.00/112 [00:00<?, ?B/s]"
      ]
     },
     "metadata": {},
     "output_type": "display_data"
    },
    {
     "data": {
      "application/vnd.jupyter.widget-view+json": {
       "model_id": "161d5ed88b974ffcab56e1379df40df6",
       "version_major": 2,
       "version_minor": 0
      },
      "text/plain": [
       "config.json:   0%|          | 0.00/190 [00:00<?, ?B/s]"
      ]
     },
     "metadata": {},
     "output_type": "display_data"
    }
   ],
   "source": [
    "from langchain_community.embeddings import HuggingFaceEmbeddings\n",
    "\n",
    "embedding_model = HuggingFaceEmbeddings(model_name=\"sentence-transformers/all-MiniLM-L6-v2\")"
   ]
  },
  {
   "cell_type": "code",
   "execution_count": null,
   "metadata": {
    "colab": {
     "base_uri": "https://localhost:8080/"
    },
    "id": "242a743a",
    "outputId": "201646cf-3b19-4486-d7e9-9886833a859f"
   },
   "outputs": [
    {
     "name": "stderr",
     "output_type": "stream",
     "text": [
      "/usr/local/lib/python3.11/dist-packages/torch/nn/modules/module.py:1750: FutureWarning: `encoder_attention_mask` is deprecated and will be removed in version 4.55.0 for `BertSdpaSelfAttention.forward`.\n",
      "  return forward_call(*args, **kwargs)\n"
     ]
    }
   ],
   "source": [
    "from langchain_community.vectorstores import FAISS\n",
    "\n",
    "vectorstore = FAISS.from_documents(chunked_docs, embedding_model)"
   ]
  },
  {
   "cell_type": "code",
   "execution_count": null,
   "metadata": {
    "id": "X41nCScjqKFQ"
   },
   "outputs": [],
   "source": [
    "query =\"Who gave Mary Hill a review?\""
   ]
  },
  {
   "cell_type": "code",
   "execution_count": null,
   "metadata": {
    "colab": {
     "base_uri": "https://localhost:8080/"
    },
    "id": "ar4dabJnqKdR",
    "outputId": "3c2809d6-60d4-4bba-e08c-197dd5044d95"
   },
   "outputs": [
    {
     "name": "stderr",
     "output_type": "stream",
     "text": [
      "/tmp/ipython-input-624296230.py:1: LangChainDeprecationWarning: The method `BaseRetriever.get_relevant_documents` was deprecated in langchain-core 0.1.46 and will be removed in 1.0. Use :meth:`~invoke` instead.\n",
      "  results = retriever.get_relevant_documents(query)\n"
     ]
    },
    {
     "name": "stdout",
     "output_type": "stream",
     "text": [
      "🔍 Retrieved 4 relevant chunks:\n",
      "\n",
      "--- Chunk #1 ---\n",
      "Name: Mary Hill\n",
      "    Review Date: 2025-07-02\n",
      "    Reviewer: Daniel Burns\n",
      "    Comments: Only age reveal media national feeling able security. Send suffer against and act resource. North success commercial another. Sign tough since war.\n",
      "    Rating: 2.5\n",
      "\n",
      "--- Chunk #2 ---\n",
      "Name: Mary Wells\n",
      "    Review Date: 2025-07-11\n",
      "    Reviewer: Joyce Butler\n",
      "    Comments: Community democratic no yes direction parent.\n",
      "    Rating: 2.6\n",
      "\n",
      "--- Chunk #3 ---\n",
      "Name: Christine Robinson\n",
      "    Review Date: 2025-06-18\n",
      "    Reviewer: Riley Davenport\n",
      "    Comments: Class next want instead.\n",
      "    Rating: 3.6\n",
      "\n",
      "--- Chunk #4 ---\n",
      "Name: Charles Hill\n",
      "    Review Date: 2025-07-21\n",
      "    Reviewer: Derek Thompson\n",
      "    Comments: Part read important play success.\n",
      "    Rating: 4.1\n",
      "\n"
     ]
    },
    {
     "name": "stderr",
     "output_type": "stream",
     "text": [
      "/usr/local/lib/python3.11/dist-packages/torch/nn/modules/module.py:1750: FutureWarning: `encoder_attention_mask` is deprecated and will be removed in version 4.55.0 for `BertSdpaSelfAttention.forward`.\n",
      "  return forward_call(*args, **kwargs)\n"
     ]
    }
   ],
   "source": [
    "results = retriever.get_relevant_documents(query)\n",
    "\n",
    "print(f\"🔍 Retrieved {len(results)} relevant chunks:\\n\")\n",
    "\n",
    "for i, doc in enumerate(results, 1):\n",
    "    print(f\"--- Chunk #{i} ---\\n{doc.page_content}\\n\")"
   ]
  },
  {
   "cell_type": "code",
   "execution_count": null,
   "metadata": {
    "id": "C0UsGd03qNBn"
   },
   "outputs": [],
   "source": []
  },
  {
   "cell_type": "code",
   "execution_count": null,
   "metadata": {
    "id": "fa69790c"
   },
   "outputs": [],
   "source": [
    "retriever = vectorstore.as_retriever()"
   ]
  },
  {
   "cell_type": "code",
   "execution_count": null,
   "metadata": {
    "id": "qWCUtZXg2BkY"
   },
   "outputs": [],
   "source": [
    "from langchain.prompts import PromptTemplate\n",
    "\n",
    "custom_prompt = PromptTemplate(\n",
    "    input_variables=[\"context\", \"question\"],\n",
    "    template=\"\"\"\n",
    "You are an assistant helping with performance reviews and daily standup summaries.\n",
    "\n",
    "Use the following context to answer the user's question at the end. If the answer is not contained in the context, respond with \"I don't know\" — do not guess.\n",
    "\n",
    "---------------------\n",
    "{context}\n",
    "---------------------\n",
    "\n",
    "Question: {question}\n",
    "Helpful Answer:\"\"\"\n",
    ")\n"
   ]
  },
  {
   "cell_type": "code",
   "execution_count": null,
   "metadata": {
    "colab": {
     "base_uri": "https://localhost:8080/",
     "height": 313,
     "referenced_widgets": [
      "f2af3191228c4aa3b929bf93edea5c99",
      "40c690f987a04b85bf82a00a7a15b676",
      "14626b2fa2f54100973a93a8b709dac4",
      "fedeeefbbc85488c8a153b603d19cfab",
      "b3e47f4aac204bc4aded0c012eca9f28",
      "183e9d652d724574a1bcc380058c43b3",
      "86e496d8574245fe939bf76901547c3c",
      "024693c164c842e99be3dfa2b532cb38",
      "ac9c4abcdffb472786a6416d4918c69f",
      "242b8ee1512d49f28dee397b8e394d93",
      "31db38e9ce394301bc391095182eb8c6",
      "1c953f45d6b748c88d42fe072e84da7e",
      "c5256d79ac184a6899e36f4d6303be59",
      "84031994a03d45b3a2a58a2d3b4bade7",
      "6ddb319066534178afa400fdae9ecc01",
      "ce38dd631ab5410f9cd4f30bf37849c4",
      "a569688998c440bc97467abb06870827",
      "71729fc0cb3f4d139e075533bb23d15c",
      "e68be545c52d4ca8b3ba482eafdf6246",
      "1381704c722b4e88bf2995c44a06aa09",
      "11cfe8344a0d4ce8835301e2ff541018",
      "a806be3d936543b295369c856c0e4c69",
      "0078c0c998e747caa64a3e19c5200d25",
      "0ab60d942b9e4068833706a555e726c0",
      "d5a2d8b2838a4709a720ade5215e3fb7",
      "11735b2fdd4d43f280188ff1cb7e99e4",
      "b36079f903904b2e9076fdfe771eeec4",
      "0f11075f10d44f9587be7ae2c3d93eb3",
      "ee7e9293bf9a4c32923e4350205716e5",
      "d575f1fbe94d41a8bb34afb06ba281ad",
      "a3a3f17dbfc44ad3a4159655fee9cf4a",
      "ff35228f96d04db0a62bf4712a626cf0",
      "71fe58ee6c654886ac7d8e733725a10f",
      "133cb602f0a54e13a2c111121c710df5",
      "50c5b1d9332b46828bbbefd9aebab3f2",
      "5874bf09a66b4ad2b52b6e739f3336e4",
      "0d735fa9de5940a79f47acbbf2ad0922",
      "05f4c8cd791a4efda3a998a1fda50038",
      "e2c877a175e740c5b7ea23e4dd8d9210",
      "7ca359311e104e28b995c7764f7fc84f",
      "425054cbab5048f7a9529a1bbdfd2050",
      "a2fd6164d61348efbbdfad9a1cc19a23",
      "6058542aecb6493396a4e9ebc0361687",
      "dc87ffa59d984c80858604bebd0c37c3",
      "99f0deee02814fc880e423afbfd12961",
      "dca30c36f3c54d5ca8e6532a23321f9f",
      "0f54307574e140dfafde3a9fb5b5ada2",
      "b92a8ba1892b40f1a1208afc2deb3858",
      "71affb19c1db42398099c26056bd035b",
      "60e7c2f0dc7b41ec8791b621dc42d429",
      "5a11163989b1451a8a510ad889703ef5",
      "938b3c60a93e491da6c1a250f9585e23",
      "df62e9fc80cd4dc09d72b9fae980448d",
      "df0cd2111ad54ffc9321785a1f13aea2",
      "0c816218021d442ba3d2b7f87f555e46",
      "23cecb0e7a684ee1bd2541e46ac2e66c",
      "98e8b4a29689425aa90d5d9259ddcde8",
      "6cca516e9afa4665b17232421b8cb919",
      "85042dcc8f174de6aec5b1f12b90857a",
      "540e8ba6894748d29205ea9d3574ffeb",
      "b8e2f62d63d84210a35cfcd13b319495",
      "5b835b1d97bb4f0f82dde55f21388513",
      "71f48642344d4e6aa89ab0f2d5d11666",
      "9ebf3c97f9844a41a9b6b431b862ecfa",
      "f85fb326162e44f8ad6065c925c217df",
      "199ecdf46f1e4b14b316c67d436be303",
      "55990466596a4e49b74a5d53f7e70ddf",
      "cca62a3b592242f5abbce35706484ce9",
      "78950bd8467c4e99a170d7bbf7723bba",
      "7c1978cc36d64d1b951a2f956a93e223",
      "570000bd06f4482d8520660188a22f05",
      "77de4d625da441a093fcb9701293b621",
      "655e6a47c2b544d2965a1bb41e155865",
      "15d0eef8c717439b920c6f53602c2f5f",
      "e3cf6f4ad5ce49e0956a84c6222af889",
      "ba346850ca0c4314a0014d5da4b8e833",
      "8c0933ad9f45479285d089ef51c07bb0"
     ]
    },
    "id": "aT014K3m2B9C",
    "outputId": "626fc433-0e83-4294-b2b6-4b20cde521ef"
   },
   "outputs": [
    {
     "data": {
      "application/vnd.jupyter.widget-view+json": {
       "model_id": "f2af3191228c4aa3b929bf93edea5c99",
       "version_major": 2,
       "version_minor": 0
      },
      "text/plain": [
       "config.json:   0%|          | 0.00/762 [00:00<?, ?B/s]"
      ]
     },
     "metadata": {},
     "output_type": "display_data"
    },
    {
     "data": {
      "application/vnd.jupyter.widget-view+json": {
       "model_id": "1c953f45d6b748c88d42fe072e84da7e",
       "version_major": 2,
       "version_minor": 0
      },
      "text/plain": [
       "model.safetensors:   0%|          | 0.00/353M [00:00<?, ?B/s]"
      ]
     },
     "metadata": {},
     "output_type": "display_data"
    },
    {
     "data": {
      "application/vnd.jupyter.widget-view+json": {
       "model_id": "0078c0c998e747caa64a3e19c5200d25",
       "version_major": 2,
       "version_minor": 0
      },
      "text/plain": [
       "generation_config.json:   0%|          | 0.00/124 [00:00<?, ?B/s]"
      ]
     },
     "metadata": {},
     "output_type": "display_data"
    },
    {
     "data": {
      "application/vnd.jupyter.widget-view+json": {
       "model_id": "133cb602f0a54e13a2c111121c710df5",
       "version_major": 2,
       "version_minor": 0
      },
      "text/plain": [
       "tokenizer_config.json:   0%|          | 0.00/26.0 [00:00<?, ?B/s]"
      ]
     },
     "metadata": {},
     "output_type": "display_data"
    },
    {
     "data": {
      "application/vnd.jupyter.widget-view+json": {
       "model_id": "99f0deee02814fc880e423afbfd12961",
       "version_major": 2,
       "version_minor": 0
      },
      "text/plain": [
       "vocab.json:   0%|          | 0.00/1.04M [00:00<?, ?B/s]"
      ]
     },
     "metadata": {},
     "output_type": "display_data"
    },
    {
     "data": {
      "application/vnd.jupyter.widget-view+json": {
       "model_id": "23cecb0e7a684ee1bd2541e46ac2e66c",
       "version_major": 2,
       "version_minor": 0
      },
      "text/plain": [
       "merges.txt:   0%|          | 0.00/456k [00:00<?, ?B/s]"
      ]
     },
     "metadata": {},
     "output_type": "display_data"
    },
    {
     "data": {
      "application/vnd.jupyter.widget-view+json": {
       "model_id": "55990466596a4e49b74a5d53f7e70ddf",
       "version_major": 2,
       "version_minor": 0
      },
      "text/plain": [
       "tokenizer.json:   0%|          | 0.00/1.36M [00:00<?, ?B/s]"
      ]
     },
     "metadata": {},
     "output_type": "display_data"
    },
    {
     "name": "stderr",
     "output_type": "stream",
     "text": [
      "Device set to use cuda:0\n",
      "/tmp/ipython-input-2161004273.py:6: LangChainDeprecationWarning: The class `HuggingFacePipeline` was deprecated in LangChain 0.0.37 and will be removed in 1.0. An updated version of the class exists in the :class:`~langchain-huggingface package and should be used instead. To use it run `pip install -U :class:`~langchain-huggingface` and import as `from :class:`~langchain_huggingface import HuggingFacePipeline``.\n",
      "  llm = HuggingFacePipeline(pipeline=generator)\n"
     ]
    }
   ],
   "source": [
    "from transformers import pipeline\n",
    "from langchain.llms import HuggingFacePipeline\n",
    "\n",
    "# Replace with better model if needed (e.g., flan-t5-small)\n",
    "generator = pipeline(\"text-generation\", model=\"distilgpt2\", max_new_tokens=150)\n",
    "llm = HuggingFacePipeline(pipeline=generator)\n"
   ]
  },
  {
   "cell_type": "code",
   "execution_count": null,
   "metadata": {
    "id": "XTdmnn4_2Oa0"
   },
   "outputs": [],
   "source": [
    "from langchain.chains import RetrievalQA\n",
    "\n",
    "qa_chain = RetrievalQA.from_chain_type(\n",
    "    llm=llm,\n",
    "    retriever=retriever,\n",
    "    chain_type=\"stuff\",\n",
    "    chain_type_kwargs={\"prompt\": custom_prompt},\n",
    "    return_source_documents=True\n",
    ")\n"
   ]
  },
  {
   "cell_type": "code",
   "execution_count": null,
   "metadata": {
    "colab": {
     "base_uri": "https://localhost:8080/"
    },
    "id": "oZiC9H2G2mVl",
    "outputId": "640b521f-c7fc-4236-c08f-0bcdd980e6cc"
   },
   "outputs": [
    {
     "name": "stderr",
     "output_type": "stream",
     "text": [
      "/usr/local/lib/python3.11/dist-packages/torch/nn/modules/module.py:1750: FutureWarning: `encoder_attention_mask` is deprecated and will be removed in version 4.55.0 for `BertSdpaSelfAttention.forward`.\n",
      "  return forward_call(*args, **kwargs)\n"
     ]
    },
    {
     "name": "stdout",
     "output_type": "stream",
     "text": [
      "📌 Answer:\n",
      " I don't know\n"
     ]
    }
   ],
   "source": [
    "query = \"Who has less rating?\"\n",
    "\n",
    "response = qa_chain({\"query\": query})\n",
    "\n",
    "print(\"📌 Answer:\\n\", response[\"result\"])\n"
   ]
  },
  {
   "cell_type": "code",
   "execution_count": null,
   "metadata": {
    "colab": {
     "base_uri": "https://localhost:8080/"
    },
    "id": "9dNaKMG02qE_",
    "outputId": "7ea8ae29-a402-482f-f9f5-2b798b3b32d4"
   },
   "outputs": [
    {
     "name": "stdout",
     "output_type": "stream",
     "text": [
      "\u001b[2K     \u001b[90m━━━━━━━━━━━━━━━━━━━━━━━━━━━━━━━━━━━━━━━━\u001b[0m \u001b[32m41.7/41.7 kB\u001b[0m \u001b[31m2.4 MB/s\u001b[0m eta \u001b[36m0:00:00\u001b[0m\n",
      "\u001b[2K   \u001b[90m━━━━━━━━━━━━━━━━━━━━━━━━━━━━━━━━━━━━━━━━\u001b[0m \u001b[32m11.2/11.2 MB\u001b[0m \u001b[31m117.8 MB/s\u001b[0m eta \u001b[36m0:00:00\u001b[0m\n",
      "\u001b[?25h"
     ]
    }
   ],
   "source": [
    "!pip install -q --upgrade transformers\n"
   ]
  },
  {
   "cell_type": "code",
   "execution_count": null,
   "metadata": {
    "colab": {
     "base_uri": "https://localhost:8080/",
     "height": 258,
     "referenced_widgets": [
      "8e08e7c97e53441da0f00157718c2f59",
      "8e270d75f2ed4f0a82224b1402d809e9",
      "bb3f1d03ecb144fba1f2ec66568b3cf2",
      "6e6cf494620e49068b9338908ecd39b7",
      "6bbd4f8c2acf47dba49e0e62c50d5820",
      "4a0185675f374f7a96e2c86a61d94443",
      "8ad9be65a8a046e698964876ad42f843",
      "d6193c169dd746a98e030711d2fcca27",
      "a0ce83ea7f12438b84faed3d2d251629",
      "4241a26d5abc4e57b0736b45418626f2",
      "48059bf36e5b40288cc26bacd01aa6e2",
      "0ca2d359579b4ec183bec0ee5544814f",
      "940e296a9a44464db43a18613fb420d7",
      "b7ebd1c236f24ce3897dac07e5e7cf8a",
      "582983e500c244b8aa9d4505a7aa4196",
      "450355edb9954c6ba0b29a9deabb490d",
      "c76a40fcc48b40d0aadf9d3126f539da",
      "20cbec35935d4b4cb7af9d15d3af82a4",
      "c1d11286d5d442c0b350a9d998b51803",
      "6e1d9953c3be446e955b5776bad62892",
      "af6d23e2b2304413ad9a0483f1acb72e",
      "e2f8c5f6193e4ff385c4647549c9aa58",
      "89fdc41e811348f786fbe332db3a7993",
      "9beb8eb29d8c4235bfb821b6f88a7855",
      "4333e191568d4103932c52fde75c95dd",
      "fedb955dc3454cd69376f27bc405021f",
      "5e9466487def49528e98b68b0d04a20a",
      "edc9ee512f5f4b6cacefd4c7c9e45ef8",
      "f4f4dae89e7b425d8cbfdab69a368079",
      "1c30e4cf845a4d17a11b5321ec8260b6",
      "2f3e32ab423845289078dda7408a99af",
      "4b2eba8ef7894eb189279ba92c545042",
      "bd4bd4ff4da5429ab35e4bd8a15c2ae7",
      "be4a89aa8b464aae9770719299d22ff3",
      "37e080cfcf7b4ea8985c6b8561d6246b",
      "016b25422d784079b1847ccaed4d44f6",
      "dbdc307ba37c4b87b7f1976265e1676f",
      "073fa451be654b488ee9c8b407e8e36e",
      "4faaf94b55c4472cbfa6bf46f5eda53a",
      "1dff93ee5bb040528d1147d97bb88c09",
      "10439b9be5e246828cb7177bf4958b8e",
      "64600cfe9e53475989ce1f23ba962324",
      "b530a841e2e14dbfabefce7a1914d521",
      "b515ac95e3b5454d8f163b6b4bc9ab58",
      "8f741fb3be8d4f1cba05f6afb0043787",
      "cdae6c03b4f046c89d12298601b55616",
      "2581330374dd4694adfe4981c925f0de",
      "6c5f617adce942ec98873649f39b947d",
      "de433eeafd744c98bed200155c1568ad",
      "3ec0d0e6de1e4b089c1ca54fc877661c",
      "eee20378cafd4e4bad18e6c88d3beaf9",
      "204c49dab23d4ef9a178a7e07ad25e93",
      "b17a758cda224872afeb879ea92523fb",
      "2a774542ce74411fb4e9443b29667605",
      "ec263cf9cfaa43c2a34472680e975939",
      "a3cac709229d46ef9dac962c0596131d",
      "84ed491510884860836d23eb9d6d3393",
      "97123cfe5a9248749409497ab852c673",
      "3aeaa99b33f5429dacdd67c3175531e7",
      "a57f9215a98d432ea7434e24496b168d",
      "b9eb475827da40f79445601ae568a87c",
      "66df4af7b19444d5a7dd3d2126c1bb7a",
      "2de2df6cc8db43cba72558cbb5af1c05",
      "654570f55e444127b17af3e8607a5b46",
      "f6e391a3d0a54f46b956bc8dc1c57768",
      "7b04dac8aa7d45d9bf7919b187d7a0fc",
      "70171439a08e4e8eb9c4f59b8938c6d8",
      "21a3a661bfa5408681d3d28375944669",
      "1967fb15e2ea41e191b89c42557be7e9",
      "a54f02fec1394f9eb97a43e3359298e2",
      "aef529f159e94d7ebe68cf194fac0c8a",
      "124d898e52ee406590640044b38dcf84",
      "328a79c48b4547d9a1fc9c79a9a0c635",
      "8b60f04a2c0547bfb16c35e484bef54f",
      "43384e600e9b47f190ad7090229dc0e1",
      "b71d302586f448d68c910fee64c00edb",
      "cf6e9fd953904e53b54f960a56fd16bf"
     ]
    },
    "id": "QkVhb7jt4s3U",
    "outputId": "dabdec80-0211-4097-c1a2-0efa1811ccf8"
   },
   "outputs": [
    {
     "data": {
      "application/vnd.jupyter.widget-view+json": {
       "model_id": "8e08e7c97e53441da0f00157718c2f59",
       "version_major": 2,
       "version_minor": 0
      },
      "text/plain": [
       "tokenizer_config.json: 0.00B [00:00, ?B/s]"
      ]
     },
     "metadata": {},
     "output_type": "display_data"
    },
    {
     "data": {
      "application/vnd.jupyter.widget-view+json": {
       "model_id": "0ca2d359579b4ec183bec0ee5544814f",
       "version_major": 2,
       "version_minor": 0
      },
      "text/plain": [
       "spiece.model:   0%|          | 0.00/792k [00:00<?, ?B/s]"
      ]
     },
     "metadata": {},
     "output_type": "display_data"
    },
    {
     "data": {
      "application/vnd.jupyter.widget-view+json": {
       "model_id": "89fdc41e811348f786fbe332db3a7993",
       "version_major": 2,
       "version_minor": 0
      },
      "text/plain": [
       "tokenizer.json: 0.00B [00:00, ?B/s]"
      ]
     },
     "metadata": {},
     "output_type": "display_data"
    },
    {
     "data": {
      "application/vnd.jupyter.widget-view+json": {
       "model_id": "be4a89aa8b464aae9770719299d22ff3",
       "version_major": 2,
       "version_minor": 0
      },
      "text/plain": [
       "special_tokens_map.json: 0.00B [00:00, ?B/s]"
      ]
     },
     "metadata": {},
     "output_type": "display_data"
    },
    {
     "data": {
      "application/vnd.jupyter.widget-view+json": {
       "model_id": "8f741fb3be8d4f1cba05f6afb0043787",
       "version_major": 2,
       "version_minor": 0
      },
      "text/plain": [
       "config.json:   0%|          | 0.00/662 [00:00<?, ?B/s]"
      ]
     },
     "metadata": {},
     "output_type": "display_data"
    },
    {
     "data": {
      "application/vnd.jupyter.widget-view+json": {
       "model_id": "a3cac709229d46ef9dac962c0596131d",
       "version_major": 2,
       "version_minor": 0
      },
      "text/plain": [
       "model.safetensors:   0%|          | 0.00/3.13G [00:00<?, ?B/s]"
      ]
     },
     "metadata": {},
     "output_type": "display_data"
    },
    {
     "data": {
      "application/vnd.jupyter.widget-view+json": {
       "model_id": "70171439a08e4e8eb9c4f59b8938c6d8",
       "version_major": 2,
       "version_minor": 0
      },
      "text/plain": [
       "generation_config.json:   0%|          | 0.00/147 [00:00<?, ?B/s]"
      ]
     },
     "metadata": {},
     "output_type": "display_data"
    },
    {
     "name": "stderr",
     "output_type": "stream",
     "text": [
      "Device set to use cuda:0\n"
     ]
    }
   ],
   "source": [
    "from transformers import AutoTokenizer, AutoModelForSeq2SeqLM, pipeline\n",
    "from langchain.llms import HuggingFacePipeline\n",
    "\n",
    "model_name = \"google/flan-t5-large\"\n",
    "\n",
    "# Load tokenizer and model\n",
    "tokenizer = AutoTokenizer.from_pretrained(model_name)\n",
    "model = AutoModelForSeq2SeqLM.from_pretrained(model_name).to(\"cuda\")\n",
    "\n",
    "# Create a generation pipeline\n",
    "flan_pipeline = pipeline(\n",
    "    \"text2text-generation\",\n",
    "    model=model,\n",
    "    tokenizer=tokenizer,\n",
    "    max_new_tokens=256,\n",
    "    device=0  # Use GPU (T4)\n",
    ")\n",
    "\n",
    "# Wrap for LangChain\n",
    "llm = HuggingFacePipeline(pipeline=flan_pipeline)\n"
   ]
  },
  {
   "cell_type": "code",
   "execution_count": null,
   "metadata": {
    "id": "vSNt3cca41NM"
   },
   "outputs": [],
   "source": [
    "from langchain.prompts import PromptTemplate\n",
    "\n",
    "custom_prompt = PromptTemplate(\n",
    "    input_variables=[\"context\", \"question\"],\n",
    "    template=\"\"\"\n",
    "You are an assistant helping with performance reviews and daily standup summaries.\n",
    "\n",
    "Use the following context to answer the user's question at the end. If the answer is not contained in the context, respond with \"I don't know\" — do not guess.\n",
    "\n",
    "---------------------\n",
    "{context}\n",
    "---------------------\n",
    "\n",
    "Question: {question}\n",
    "Helpful Answer:\"\"\"\n",
    ")\n"
   ]
  },
  {
   "cell_type": "code",
   "execution_count": null,
   "metadata": {
    "id": "XbefGyTb7L2k"
   },
   "outputs": [],
   "source": [
    "from langchain.chains import RetrievalQA\n",
    "\n",
    "qa_chain = RetrievalQA.from_chain_type(\n",
    "    llm=llm,\n",
    "    retriever=retriever,\n",
    "    chain_type=\"stuff\",\n",
    "    chain_type_kwargs={\"prompt\": custom_prompt},\n",
    "    return_source_documents=True\n",
    ")\n"
   ]
  },
  {
   "cell_type": "code",
   "execution_count": null,
   "metadata": {
    "colab": {
     "base_uri": "https://localhost:8080/"
    },
    "id": "JeBxOuj67Pqi",
    "outputId": "01870dc2-df2b-4f74-8402-617827675d9c"
   },
   "outputs": [
    {
     "name": "stderr",
     "output_type": "stream",
     "text": [
      "/usr/local/lib/python3.11/dist-packages/torch/nn/modules/module.py:1750: FutureWarning: `encoder_attention_mask` is deprecated and will be removed in version 4.55.0 for `BertSdpaSelfAttention.forward`.\n",
      "  return forward_call(*args, **kwargs)\n"
     ]
    },
    {
     "name": "stdout",
     "output_type": "stream",
     "text": [
      "📌 Final Answer:\n",
      " I don't know\n"
     ]
    }
   ],
   "source": [
    "query = \"Who has best rating?\"\n",
    "\n",
    "response = qa_chain({\"query\": query})\n",
    "\n",
    "print(\"📌 Final Answer:\\n\", response[\"result\"])\n"
   ]
  },
  {
   "cell_type": "code",
   "execution_count": null,
   "metadata": {
    "colab": {
     "base_uri": "https://localhost:8080/"
    },
    "id": "W3R-apss7QBW",
    "outputId": "62b747f6-295d-44cf-e902-019fc186caa4"
   },
   "outputs": [
    {
     "name": "stdout",
     "output_type": "stream",
     "text": [
      "\n",
      "--- Retrieved Chunk #1 ---\n",
      "Name: Kevin Hall\n",
      "    Review Date: 2025-07-28\n",
      "    Reviewer: Catherine Booth\n",
      "    Comments: Indeed main write challenge this. Mention manager everyone dark Congress.\n",
      "    Rating: 3.3\n",
      "\n",
      "--- Retrieved Chunk #2 ---\n",
      "Name: Shannon Smith\n",
      "    Review Date: 2025-06-22\n",
      "    Reviewer: Chad Schneider DVM\n",
      "    Comments: Talk rich what truth partner measure.\n",
      "    Rating: 4.4\n",
      "\n",
      "--- Retrieved Chunk #3 ---\n",
      "Name: Brandon Molina\n",
      "    Review Date: 2025-06-06\n",
      "    Reviewer: William Weber\n",
      "    Comments: Few current like. Along public recent friend sort table. Imagine garden wall rest need major.\n",
      "    Rating: 3.8\n",
      "\n",
      "--- Retrieved Chunk #4 ---\n",
      "Name: David Bruce\n",
      "    Review Date: 2025-07-29\n",
      "    Reviewer: Brett Keith\n",
      "    Comments: So authority long kind live between.\n",
      "    Rating: 3.1\n"
     ]
    }
   ],
   "source": [
    "for i, doc in enumerate(response[\"source_documents\"], 1):\n",
    "    print(f\"\\n--- Retrieved Chunk #{i} ---\\n{doc.page_content}\")\n"
   ]
  },
  {
   "cell_type": "code",
   "execution_count": null,
   "metadata": {
    "colab": {
     "base_uri": "https://localhost:8080/"
    },
    "id": "3b2b527b",
    "outputId": "cd4d7e9c-b3fe-4406-cf9c-22cf69e3065e"
   },
   "outputs": [
    {
     "name": "stdout",
     "output_type": "stream",
     "text": [
      "\u001b[2K   \u001b[90m━━━━━━━━━━━━━━━━━━━━━━━━━━━━━━━━━━━━━━━━\u001b[0m \u001b[32m31.3/31.3 MB\u001b[0m \u001b[31m24.8 MB/s\u001b[0m eta \u001b[36m0:00:00\u001b[0m\n",
      "\u001b[?25h"
     ]
    }
   ],
   "source": [
    "!pip install -q faiss-cpu"
   ]
  },
  {
   "cell_type": "code",
   "execution_count": null,
   "metadata": {
    "id": "K3dR8sWI8z00"
   },
   "outputs": [],
   "source": [
    "retriever = vectorstore.as_retriever(\n",
    "    search_type=\"mmr\",           # Better than default similarity for mixed content\n",
    "    search_kwargs={\"k\": 8}       # Retrieve more to improve chance of hitting rating chunks\n",
    ")\n"
   ]
  },
  {
   "cell_type": "code",
   "execution_count": null,
   "metadata": {
    "id": "43a6c1d9"
   },
   "outputs": [],
   "source": [
    "retriever = vectorstore.as_retriever()"
   ]
  }
 ],
 "metadata": {
  "accelerator": "GPU",
  "colab": {
   "gpuType": "T4",
   "provenance": []
  },
  "kernelspec": {
   "display_name": "Python 3",
   "name": "python3"
  },
  "language_info": {
   "name": "python"
  }
 },
 "nbformat": 4,
 "nbformat_minor": 0
}
